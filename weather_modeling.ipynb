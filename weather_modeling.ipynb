{
  "nbformat": 4,
  "nbformat_minor": 0,
  "metadata": {
    "colab": {
      "provenance": [],
      "authorship_tag": "ABX9TyN6KZ7Bp4zOO/NoLUro7Hpa",
      "include_colab_link": true
    },
    "kernelspec": {
      "name": "python3",
      "display_name": "Python 3"
    },
    "language_info": {
      "name": "python"
    }
  },
  "cells": [
    {
      "cell_type": "markdown",
      "metadata": {
        "id": "view-in-github",
        "colab_type": "text"
      },
      "source": [
        "<a href=\"https://colab.research.google.com/github/aditivarma9/my-first-repository/blob/main/weather_modeling.ipynb\" target=\"_parent\"><img src=\"https://colab.research.google.com/assets/colab-badge.svg\" alt=\"Open In Colab\"/></a>"
      ]
    },
    {
      "cell_type": "code",
      "execution_count": 1,
      "metadata": {
        "colab": {
          "base_uri": "https://localhost:8080/"
        },
        "id": "by9X-VnTUNxm",
        "outputId": "b7a219ab-2d9d-4c96-9647-df3804a08a0c"
      },
      "outputs": [
        {
          "output_type": "stream",
          "name": "stdout",
          "text": [
            "Predicted temperature at hour 5 is: 12.5°C\n"
          ]
        }
      ],
      "source": [
        "# Stage 1: Hard-Coded Variables\n",
        "\n",
        "def quadratic_weather_model(a, b, c, x):\n",
        "    \"\"\"Solves a quadratic equation of the form ax^2 + bx + c\"\"\"\n",
        "    return a * x**2 + b * x + c\n",
        "\n",
        "# Hard-coded values for the quadratic equation\n",
        "a = 0.5\n",
        "b = -2\n",
        "c = 10\n",
        "\n",
        "# Example input: Temperature prediction at a specific hour (x = 5)\n",
        "x = 5\n",
        "predicted_temperature = quadratic_weather_model(a, b, c, x)\n",
        "print(f\"Predicted temperature at hour {x} is: {predicted_temperature}°C\")\n"
      ]
    },
    {
      "cell_type": "code",
      "source": [
        "# Stage 2: Keyboard Input\n",
        "\n",
        "def quadratic_weather_model(a, b, c, x):\n",
        "    \"\"\"Solves a quadratic equation of the form ax^2 + bx + c\"\"\"\n",
        "    return a * x**2 + b * x + c\n",
        "\n",
        "# Take user input for coefficients and x value\n",
        "a = float(input(\"Enter the coefficient a: \"))\n",
        "b = float(input(\"Enter the coefficient b: \"))\n",
        "c = float(input(\"Enter the coefficient c: \"))\n",
        "x = float(input(\"Enter the value of x (e.g., time of day): \"))\n",
        "\n",
        "# Calculate and display the result\n",
        "predicted_temperature = quadratic_weather_model(a, b, c, x)\n",
        "print(f\"Predicted temperature at hour {x} is: {predicted_temperature}°C\")\n"
      ],
      "metadata": {
        "colab": {
          "base_uri": "https://localhost:8080/"
        },
        "id": "kvW5rARXVJJW",
        "outputId": "011c2591-e411-45d8-b22c-60a195988de4"
      },
      "execution_count": null,
      "outputs": [
        {
          "output_type": "stream",
          "name": "stdout",
          "text": [
            "Enter the coefficient a: 2\n",
            "Enter the coefficient b: 3\n",
            "Enter the coefficient c: 5\n",
            "Enter the value of x (e.g., time of day): 4\n",
            "Predicted temperature at hour 4.0 is: 49.0°C\n"
          ]
        }
      ]
    },
    {
      "cell_type": "code",
      "source": [
        "# Stage 3: Reading from a File\n",
        "\n",
        "def quadratic_weather_model(a, b, c, x):\n",
        "    \"\"\"Solves a quadratic equation of the form ax^2 + bx + c\"\"\"\n",
        "    return a * x**2 + b * x + c\n",
        "\n",
        "# Read input data from file\n",
        "with open(\"input_data.txt\", \"r\") as file:\n",
        "    for line in file:\n",
        "        # Parse each line\n",
        "        a, b, c, x = map(float, line.split())\n",
        "        predicted_temperature = quadratic_weather_model(a, b, c, x)\n",
        "        print(f\"Predicted temperature at hour {x} is: {predicted_temperature}°C\")\n"
      ],
      "metadata": {
        "colab": {
          "base_uri": "https://localhost:8080/"
        },
        "id": "gWfoeAsQWVan",
        "outputId": "e337a472-a262-4c07-f9e5-0d822a68a9bb"
      },
      "execution_count": null,
      "outputs": [
        {
          "output_type": "stream",
          "name": "stdout",
          "text": [
            "Predicted temperature at hour 5.0 is: 12.5°C\n",
            "Predicted temperature at hour 10.0 is: 72.0°C\n",
            "Predicted temperature at hour 7.0 is: -2.0999999999999996°C\n"
          ]
        }
      ]
    },
    {
      "cell_type": "code",
      "source": [
        "# Stage 4: Multiple Sets of Inputs\n",
        "\n",
        "def quadratic_weather_model(a, b, c, x):\n",
        "    \"\"\"Solves a quadratic equation of the form ax^2 + bx + c\"\"\"\n",
        "    return a * x**2 + b * x + c\n",
        "\n",
        "# Option to choose input method: file or keyboard\n",
        "method = input(\"Enter 'file' to read input from a file or 'keyboard' to input data manually: \").strip().lower()\n",
        "\n",
        "if method == 'file':\n",
        "    filename = input(\"Enter the filename to read inputs from: \").strip()\n",
        "    try:\n",
        "        with open(filename, \"r\") as file:\n",
        "            for line in file:\n",
        "                a, b, c, x = map(float, line.split())\n",
        "                predicted_temperature = quadratic_weather_model(a, b, c, x)\n",
        "                print(f\"Predicted temperature at hour {x} is: {predicted_temperature}°C\")\n",
        "    except FileNotFoundError:\n",
        "        print(f\"Error: The file {filename} was not found.\")\n",
        "else:\n",
        "    while True:\n",
        "        try:\n",
        "            a = float(input(\"Enter the coefficient a: \"))\n",
        "            b = float(input(\"Enter the coefficient b: \"))\n",
        "            c = float(input(\"Enter the coefficient c: \"))\n",
        "            x = float(input(\"Enter the value of x (e.g., time of day): \"))\n",
        "            predicted_temperature = quadratic_weather_model(a, b, c, x)\n",
        "            print(f\"Predicted temperature at hour {x} is: {predicted_temperature}°C\")\n",
        "\n",
        "            another = input(\"Would you like to enter another set of inputs? (yes/no): \").strip().lower()\n",
        "            if another != 'yes':\n",
        "                break\n",
        "        except ValueError:\n",
        "            print(\"Invalid input. Please enter numeric values.\")\n"
      ],
      "metadata": {
        "colab": {
          "base_uri": "https://localhost:8080/"
        },
        "id": "0T7khyHYWY0n",
        "outputId": "3800df14-d961-44a3-9546-5dcaccafb842"
      },
      "execution_count": null,
      "outputs": [
        {
          "output_type": "stream",
          "name": "stdout",
          "text": [
            "Enter 'file' to read input from a file or 'keyboard' to input data manually: file\n",
            "Enter the filename to read inputs from: input_data.txt\n",
            "Predicted temperature at hour 5.0 is: 12.5°C\n",
            "Predicted temperature at hour 10.0 is: 72.0°C\n",
            "Predicted temperature at hour 7.0 is: -2.0999999999999996°C\n"
          ]
        }
      ]
    }
  ]
}